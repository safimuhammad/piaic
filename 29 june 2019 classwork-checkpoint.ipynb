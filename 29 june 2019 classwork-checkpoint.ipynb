{
 "cells": [
  {
   "cell_type": "markdown",
   "metadata": {},
   "source": [
    "# 29june 2019 classwork"
   ]
  },
  {
   "cell_type": "code",
   "execution_count": null,
   "metadata": {},
   "outputs": [],
   "source": [
    "#arbitrary num of arguments when their ar more than 3 arguments"
   ]
  },
  {
   "cell_type": "code",
   "execution_count": 1,
   "metadata": {},
   "outputs": [],
   "source": [
    "def cars(model , make,*specs): # * represents multiple arguments can be used\n",
    "    print(model,make,)\n",
    "    print(specs)"
   ]
  },
  {
   "cell_type": "code",
   "execution_count": 2,
   "metadata": {},
   "outputs": [
    {
     "name": "stdout",
     "output_type": "stream",
     "text": [
      "2010 toyota corolla\n",
      "('alloyrim', 'tape', 'power window')\n"
     ]
    }
   ],
   "source": [
    "cars(2010,'toyota corolla' , 'alloyrim','tape','power window')"
   ]
  },
  {
   "cell_type": "code",
   "execution_count": 3,
   "metadata": {},
   "outputs": [
    {
     "name": "stdout",
     "output_type": "stream",
     "text": [
      "2010 toyota corolla\n",
      "('automatic',)\n"
     ]
    }
   ],
   "source": [
    "cars(2010 , 'toyota corolla' , 'automatic' )"
   ]
  },
  {
   "cell_type": "code",
   "execution_count": 6,
   "metadata": {},
   "outputs": [],
   "source": [
    "def pizza(name , amount,size ,*toppings):\n",
    "    print(name,amount,size)\n",
    "    print(toppings)"
   ]
  },
  {
   "cell_type": "code",
   "execution_count": 7,
   "metadata": {},
   "outputs": [
    {
     "name": "stdout",
     "output_type": "stream",
     "text": [
      "muhammad safi 1500 12inch\n",
      "('extra cheese with jalpenos and olives', 'big drink', 'extra sauce')\n"
     ]
    }
   ],
   "source": [
    "pizza('muhammad safi' , 1500, '12inch','extra cheese with jalpenos and olives' ,'big drink','extra sauce')"
   ]
  },
  {
   "cell_type": "code",
   "execution_count": 2,
   "metadata": {},
   "outputs": [],
   "source": [
    "def pizza_order(name , amount , size , *toppings):\n",
    "    print(\"order given by : \"+name)\n",
    "    print(\"amount to be paid : \"+amount)\n",
    "    print(\"size : \" +size)\n",
    "    print(\"toppings are : \"+toppings)"
   ]
  },
  {
   "cell_type": "code",
   "execution_count": 3,
   "metadata": {},
   "outputs": [
    {
     "name": "stdout",
     "output_type": "stream",
     "text": [
      "order given by : safi\n"
     ]
    },
    {
     "ename": "TypeError",
     "evalue": "can only concatenate str (not \"int\") to str",
     "output_type": "error",
     "traceback": [
      "\u001b[1;31m---------------------------------------------------------------------------\u001b[0m",
      "\u001b[1;31mTypeError\u001b[0m                                 Traceback (most recent call last)",
      "\u001b[1;32m<ipython-input-3-278a241781b3>\u001b[0m in \u001b[0;36m<module>\u001b[1;34m\u001b[0m\n\u001b[1;32m----> 1\u001b[1;33m \u001b[0mpizza_order\u001b[0m\u001b[1;33m(\u001b[0m\u001b[1;34m'safi'\u001b[0m \u001b[1;33m,\u001b[0m \u001b[1;36m100\u001b[0m \u001b[1;33m,\u001b[0m\u001b[1;34m'12inch'\u001b[0m\u001b[1;33m,\u001b[0m\u001b[1;34m'extra cheese'\u001b[0m \u001b[1;33m,\u001b[0m \u001b[1;34m'jalapenos'\u001b[0m\u001b[1;33m)\u001b[0m\u001b[1;33m\u001b[0m\u001b[1;33m\u001b[0m\u001b[0m\n\u001b[0m",
      "\u001b[1;32m<ipython-input-2-01103ecace03>\u001b[0m in \u001b[0;36mpizza_order\u001b[1;34m(name, amount, size, *toppings)\u001b[0m\n\u001b[0;32m      1\u001b[0m \u001b[1;32mdef\u001b[0m \u001b[0mpizza_order\u001b[0m\u001b[1;33m(\u001b[0m\u001b[0mname\u001b[0m \u001b[1;33m,\u001b[0m \u001b[0mamount\u001b[0m \u001b[1;33m,\u001b[0m \u001b[0msize\u001b[0m \u001b[1;33m,\u001b[0m \u001b[1;33m*\u001b[0m\u001b[0mtoppings\u001b[0m\u001b[1;33m)\u001b[0m\u001b[1;33m:\u001b[0m\u001b[1;33m\u001b[0m\u001b[1;33m\u001b[0m\u001b[0m\n\u001b[0;32m      2\u001b[0m     \u001b[0mprint\u001b[0m\u001b[1;33m(\u001b[0m\u001b[1;34m\"order given by : \"\u001b[0m\u001b[1;33m+\u001b[0m\u001b[0mname\u001b[0m\u001b[1;33m)\u001b[0m\u001b[1;33m\u001b[0m\u001b[1;33m\u001b[0m\u001b[0m\n\u001b[1;32m----> 3\u001b[1;33m     \u001b[0mprint\u001b[0m\u001b[1;33m(\u001b[0m\u001b[1;34m\"amount to be paid : \"\u001b[0m\u001b[1;33m+\u001b[0m\u001b[0mamount\u001b[0m\u001b[1;33m)\u001b[0m\u001b[1;33m\u001b[0m\u001b[1;33m\u001b[0m\u001b[0m\n\u001b[0m\u001b[0;32m      4\u001b[0m     \u001b[0mprint\u001b[0m\u001b[1;33m(\u001b[0m\u001b[1;34m\"size : \"\u001b[0m \u001b[1;33m+\u001b[0m\u001b[0msize\u001b[0m\u001b[1;33m)\u001b[0m\u001b[1;33m\u001b[0m\u001b[1;33m\u001b[0m\u001b[0m\n\u001b[0;32m      5\u001b[0m     \u001b[0mprint\u001b[0m\u001b[1;33m(\u001b[0m\u001b[1;34m\"toppings are : \"\u001b[0m\u001b[1;33m+\u001b[0m\u001b[0mtoppings\u001b[0m\u001b[1;33m)\u001b[0m\u001b[1;33m\u001b[0m\u001b[1;33m\u001b[0m\u001b[0m\n",
      "\u001b[1;31mTypeError\u001b[0m: can only concatenate str (not \"int\") to str"
     ]
    }
   ],
   "source": [
    "pizza_order('safi' , 100 ,'12inch','extra cheese' , 'jalapenos')"
   ]
  },
  {
   "cell_type": "code",
   "execution_count": 15,
   "metadata": {},
   "outputs": [],
   "source": [
    "def person(fname , lname , **about):\n",
    "    print(fname , lname)\n",
    "    print(about)"
   ]
  },
  {
   "cell_type": "code",
   "execution_count": 16,
   "metadata": {},
   "outputs": [
    {
     "name": "stdout",
     "output_type": "stream",
     "text": [
      "muhammad safi\n",
      "{'age': 18, 'adress': 'karachi'}\n"
     ]
    }
   ],
   "source": [
    "person('muhammad' , 'safi' ,age= 18 ,adress='karachi')"
   ]
  },
  {
   "cell_type": "code",
   "execution_count": 17,
   "metadata": {},
   "outputs": [],
   "source": [
    "def person_2(f_name ,l_name , **about ):\n",
    "    print(f_name , l_name)\n",
    "    print(about)"
   ]
  },
  {
   "cell_type": "code",
   "execution_count": 22,
   "metadata": {},
   "outputs": [
    {
     "name": "stdout",
     "output_type": "stream",
     "text": [
      "muhammad safi\n",
      "{'roll': {36472, 2019, 756349}, 'adress': 'karachi'}\n"
     ]
    }
   ],
   "source": [
    "person_2('muhammad','safi',roll ={2019 ,36472,756349} , adress='karachi') "
   ]
  },
  {
   "cell_type": "code",
   "execution_count": 23,
   "metadata": {},
   "outputs": [
    {
     "name": "stdout",
     "output_type": "stream",
     "text": [
      "muhammad safi\n",
      "{'roll': {2019: 36472}}\n"
     ]
    }
   ],
   "source": [
    "person_2('muhammad' ,'safi',roll ={2019:36472})"
   ]
  },
  {
   "cell_type": "markdown",
   "metadata": {},
   "source": [
    "# using FUNCTION AS A VARIABLE"
   ]
  },
  {
   "cell_type": "code",
   "execution_count": 24,
   "metadata": {},
   "outputs": [],
   "source": [
    "def add():\n",
    "    x = 3 + 5\n",
    "    return x"
   ]
  },
  {
   "cell_type": "code",
   "execution_count": 25,
   "metadata": {},
   "outputs": [],
   "source": [
    "def sub():\n",
    "    y = 23 - 9\n",
    "    return y"
   ]
  },
  {
   "cell_type": "code",
   "execution_count": 26,
   "metadata": {},
   "outputs": [],
   "source": [
    "answer = add()+sub()"
   ]
  },
  {
   "cell_type": "code",
   "execution_count": 27,
   "metadata": {},
   "outputs": [
    {
     "name": "stdout",
     "output_type": "stream",
     "text": [
      "22\n"
     ]
    }
   ],
   "source": [
    "print(answer)"
   ]
  },
  {
   "cell_type": "code",
   "execution_count": 69,
   "metadata": {},
   "outputs": [],
   "source": [
    "def salary(basic , commision):\n",
    "    total = basic + commision \n",
    "    print(f\" your salary is : {total} \")"
   ]
  },
  {
   "cell_type": "code",
   "execution_count": 70,
   "metadata": {},
   "outputs": [],
   "source": [
    "def commisionCalculator(sales):\n",
    "    if sales>=100000:\n",
    "        percentage = 30\n",
    "    elif sales>=50000:\n",
    "        percentage = 15\n",
    "    elif sales>=25000:\n",
    "        percentage = 7\n",
    "    elif sales>=15000:\n",
    "        percentage = 3\n",
    "    else:\n",
    "        percentage = 0\n",
    "    commision = sales/100*percentage\n",
    "    return commision"
   ]
  },
  {
   "cell_type": "code",
   "execution_count": 72,
   "metadata": {},
   "outputs": [
    {
     "name": "stdout",
     "output_type": "stream",
     "text": [
      " your salary is : 51750.0 \n"
     ]
    }
   ],
   "source": [
    "salary(50000 ,commisionCalculator(25000))"
   ]
  },
  {
   "cell_type": "markdown",
   "metadata": {},
   "source": [
    "# LOCAL AND GLOBAL VARIABLES"
   ]
  },
  {
   "cell_type": "code",
   "execution_count": 73,
   "metadata": {},
   "outputs": [],
   "source": [
    "#varibles created inside the function body are local variables\n",
    "#local means they can not be accessed outside the function"
   ]
  },
  {
   "cell_type": "code",
   "execution_count": 80,
   "metadata": {},
   "outputs": [],
   "source": [
    "fruit= \"Apple\"  #global\n",
    "\n",
    "def alocal():\n",
    "    a = 100  #local\n",
    "    \n",
    "    fruit =\"orange\"\n",
    "    print(fruit)\n",
    "    print(a)"
   ]
  },
  {
   "cell_type": "code",
   "execution_count": 81,
   "metadata": {},
   "outputs": [
    {
     "name": "stdout",
     "output_type": "stream",
     "text": [
      "orange\n",
      "100\n"
     ]
    }
   ],
   "source": [
    "alocal()"
   ]
  },
  {
   "cell_type": "code",
   "execution_count": 83,
   "metadata": {},
   "outputs": [],
   "source": [
    "fruit =\"Apple\"\n",
    "\n",
    "def alocal():\n",
    "    a = 100 \n",
    "    \n",
    "    global fruit\n",
    "    fruit =\"orange\"\n",
    "    print(fruit)\n",
    "    print(a)"
   ]
  },
  {
   "cell_type": "code",
   "execution_count": 84,
   "metadata": {},
   "outputs": [
    {
     "name": "stdout",
     "output_type": "stream",
     "text": [
      "orange\n",
      "100\n"
     ]
    }
   ],
   "source": [
    "alocal()"
   ]
  },
  {
   "cell_type": "markdown",
   "metadata": {},
   "source": [
    "# WHILE LOOPS"
   ]
  },
  {
   "cell_type": "code",
   "execution_count": 1,
   "metadata": {},
   "outputs": [
    {
     "name": "stdout",
     "output_type": "stream",
     "text": [
      "0\n",
      "2\n",
      "4\n",
      "6\n",
      "8\n"
     ]
    }
   ],
   "source": [
    "a =0\n",
    "while a<10:\n",
    "    print(a)\n",
    "    a +=2"
   ]
  },
  {
   "cell_type": "code",
   "execution_count": 1,
   "metadata": {},
   "outputs": [
    {
     "name": "stdout",
     "output_type": "stream",
     "text": [
      "enter name or type exit to quitkik\n",
      "kik\n",
      "enter name or type exit to quit,kmdflbd\n",
      ",kmdflbd\n",
      "enter name or type exit to quit.lgo\n",
      ".lgo\n",
      "enter name or type exit to quitlu\n",
      "lu\n",
      "enter name or type exit to quitp/k[]\\pk[]\\mp[\n",
      "p/k[]\\pk[]\\mp[\n",
      "enter name or type exit to quit\n",
      "\n",
      "enter name or type exit to quitquit\n",
      "quit\n",
      "enter name or type exit to quitexit\n",
      "exit\n"
     ]
    }
   ],
   "source": [
    "flag = True\n",
    "while flag:\n",
    "    name=input(\"enter name or type exit to quit\")\n",
    "    print(name)\n",
    "    if name==\"exit\":\n",
    "        flag = False"
   ]
  },
  {
   "cell_type": "code",
   "execution_count": null,
   "metadata": {},
   "outputs": [
    {
     "name": "stdout",
     "output_type": "stream",
     "text": [
      "Enter your toppings extra cheese \n",
      " extra cheese \n",
      "Enter your toppingsdip sauce\n",
      "dip sauce\n",
      "Enter your toppingsexit\n",
      "exit\n"
     ]
    }
   ],
   "source": [
    "def pizza_2(name , size , *toppings):\n",
    "   \n",
    "flag = True\n",
    "while flag:\n",
    "    toppings_given=input(\"Enter your toppings\")\n",
    "    print(toppings_given)\n",
    "if toppings_given == \"exit\":\n",
    "    flag=False\n",
    "else:\n",
    "    print(\"topping not availible\")\n",
    "print(\"Order given by = \" +name)\n",
    "print(\"size of pizza =  \" +size)\n",
    "print(\"toppings = \" +toppings)"
   ]
  },
  {
   "cell_type": "markdown",
   "metadata": {},
   "source": [
    "# CLASSES"
   ]
  },
  {
   "cell_type": "code",
   "execution_count": null,
   "metadata": {},
   "outputs": [],
   "source": [
    "class patient_2():\n",
    "    #attritutes = variables\n",
    "    #behaviours =functions\n",
    "    \n",
    "    pass"
   ]
  },
  {
   "cell_type": "code",
   "execution_count": 6,
   "metadata": {},
   "outputs": [],
   "source": [
    "class Patient():\n",
    "    def __init__(self , pid , pname , disease , age , gender):\n",
    "        self.pid = pid\n",
    "        self.pname = pname\n",
    "        self.disease = disease\n",
    "        self.age = age\n",
    "        self.gender = gender\n",
    "    "
   ]
  },
  {
   "cell_type": "code",
   "execution_count": 10,
   "metadata": {},
   "outputs": [],
   "source": [
    "p1 = Patient(111,\"gabbar\",\"cancer\",33,\"male\")"
   ]
  },
  {
   "cell_type": "code",
   "execution_count": 11,
   "metadata": {},
   "outputs": [],
   "source": [
    "p2 = Patient(222,\"samba\" ,\"wounded\" ,\"45\",\"male\")"
   ]
  },
  {
   "cell_type": "code",
   "execution_count": 12,
   "metadata": {},
   "outputs": [
    {
     "data": {
      "text/plain": [
       "'gabbar'"
      ]
     },
     "execution_count": 12,
     "metadata": {},
     "output_type": "execute_result"
    }
   ],
   "source": [
    "p1.pname"
   ]
  },
  {
   "cell_type": "code",
   "execution_count": 13,
   "metadata": {},
   "outputs": [
    {
     "data": {
      "text/plain": [
       "111"
      ]
     },
     "execution_count": 13,
     "metadata": {},
     "output_type": "execute_result"
    }
   ],
   "source": [
    "p1.pid"
   ]
  },
  {
   "cell_type": "code",
   "execution_count": 14,
   "metadata": {},
   "outputs": [
    {
     "data": {
      "text/plain": [
       "222"
      ]
     },
     "execution_count": 14,
     "metadata": {},
     "output_type": "execute_result"
    }
   ],
   "source": [
    "p2.pid"
   ]
  },
  {
   "cell_type": "code",
   "execution_count": 16,
   "metadata": {},
   "outputs": [],
   "source": [
    "class students():\n",
    "    def __init__(self,studentname,Class, rollno):\n",
    "        self.studentname = studentname\n",
    "        self.Class = Class\n",
    "        self.rollno = rollno"
   ]
  },
  {
   "cell_type": "code",
   "execution_count": null,
   "metadata": {},
   "outputs": [],
   "source": [
    "s1 = student(\"ahsan\")"
   ]
  }
 ],
 "metadata": {
  "kernelspec": {
   "display_name": "Python 3",
   "language": "python",
   "name": "python3"
  }
 },
 "nbformat": 4,
 "nbformat_minor": 2
}
