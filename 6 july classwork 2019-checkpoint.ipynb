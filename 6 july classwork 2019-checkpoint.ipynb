{
 "cells": [
  {
   "cell_type": "markdown",
   "metadata": {},
   "source": [
    "# CLASSES"
   ]
  },
  {
   "cell_type": "code",
   "execution_count": 21,
   "metadata": {},
   "outputs": [],
   "source": [
    "class car():\n",
    "    def __init__(self,make,model,year):      # positionional parameter\n",
    "        self.make = make                     # mandatory\n",
    "        self.model = model             \n",
    "        self.year = year\n",
    "        self.odometer_reading=0\n",
    "    def read_odometer(self):\n",
    "        current_odometer_reading= self.odometer_reading\n",
    "        return current_odometer_reading\n",
    "    def get_descriptive_name(self):\n",
    "        long_name = str(self.year) + ' '+self.make + ' '+self.model\n",
    "        return long_name.title()\n"
   ]
  },
  {
   "cell_type": "code",
   "execution_count": 22,
   "metadata": {},
   "outputs": [],
   "source": [
    "my_new_car = car('audi','a4',2016) # object created\n",
    "your_new_car = car('bmw','succi',2019)"
   ]
  },
  {
   "cell_type": "code",
   "execution_count": 23,
   "metadata": {},
   "outputs": [
    {
     "name": "stdout",
     "output_type": "stream",
     "text": [
      "0\n",
      "0\n"
     ]
    }
   ],
   "source": [
    "print(my_new_car.read_odometer())\n",
    "print(your_new_car.read_odometer())\n"
   ]
  },
  {
   "cell_type": "markdown",
   "metadata": {},
   "source": [
    "# CHANGING DEFAULT ATTRIBUTES"
   ]
  },
  {
   "cell_type": "code",
   "execution_count": 24,
   "metadata": {},
   "outputs": [],
   "source": [
    "# 1)Changing the value directly 2)changing via function"
   ]
  },
  {
   "cell_type": "code",
   "execution_count": 25,
   "metadata": {},
   "outputs": [],
   "source": [
    "my_new_car.odometer_reading=50"
   ]
  },
  {
   "cell_type": "code",
   "execution_count": 26,
   "metadata": {},
   "outputs": [
    {
     "data": {
      "text/plain": [
       "50"
      ]
     },
     "execution_count": 26,
     "metadata": {},
     "output_type": "execute_result"
    }
   ],
   "source": [
    "my_new_car.read_odometer()"
   ]
  },
  {
   "cell_type": "code",
   "execution_count": 27,
   "metadata": {},
   "outputs": [],
   "source": [
    "your_new_car.odometer_reading=100"
   ]
  },
  {
   "cell_type": "code",
   "execution_count": 28,
   "metadata": {},
   "outputs": [
    {
     "data": {
      "text/plain": [
       "100"
      ]
     },
     "execution_count": 28,
     "metadata": {},
     "output_type": "execute_result"
    }
   ],
   "source": [
    "your_new_car.read_odometer()"
   ]
  },
  {
   "cell_type": "code",
   "execution_count": 29,
   "metadata": {},
   "outputs": [
    {
     "name": "stdout",
     "output_type": "stream",
     "text": [
      "50\n",
      "100\n"
     ]
    }
   ],
   "source": [
    "print(my_new_car.read_odometer())\n",
    "print(your_new_car.read_odometer())"
   ]
  },
  {
   "cell_type": "code",
   "execution_count": 32,
   "metadata": {},
   "outputs": [],
   "source": [
    "class car():\n",
    "    def __init__(self,make,model,year):      # positionional parameter\n",
    "        self.make = make                     # mandatory\n",
    "        self.model = model             \n",
    "        self.year = year\n",
    "        self.odometer_reading=0\n",
    "    def read_odometer(self):\n",
    "        current_odometer_reading= self.odometer_reading\n",
    "        return current_odometer_reading\n",
    "    def get_descriptive_name(self):\n",
    "        long_name = str(self.year) + ' '+self.make + ' '+self.model\n",
    "        return long_name.title()\n",
    "    def update_odometer(self , mileage):\n",
    "        self.odometer_reading = mileage"
   ]
  },
  {
   "cell_type": "markdown",
   "metadata": {},
   "source": [
    "# 2)CHANGING VIA FUNCTION"
   ]
  },
  {
   "cell_type": "code",
   "execution_count": 34,
   "metadata": {},
   "outputs": [
    {
     "data": {
      "text/plain": [
       "600"
      ]
     },
     "execution_count": 34,
     "metadata": {},
     "output_type": "execute_result"
    }
   ],
   "source": [
    "my_new_car.update_odometer(600)\n",
    "my_new_car.read_odometer()"
   ]
  },
  {
   "cell_type": "code",
   "execution_count": 33,
   "metadata": {},
   "outputs": [],
   "source": [
    "my_new_car = car('audi','a4',2016) # object created\n",
    "your_new_car = car('bmw','succi',2019)"
   ]
  },
  {
   "cell_type": "code",
   "execution_count": 12,
   "metadata": {},
   "outputs": [],
   "source": [
    "class restaurant():\n",
    "    def __init__(self,restaurants_name , cuisine_type):\n",
    "        self.R_name = restaurants_name\n",
    "        self.type = cuisine_type\n",
    "    def get_name(self):\n",
    "        long_name = str(self.R_name) +'  '+self.type\n",
    "        return long_name.title()"
   ]
  },
  {
   "cell_type": "code",
   "execution_count": 13,
   "metadata": {},
   "outputs": [],
   "source": [
    "restaurant_att = restaurant('rossita' , 'american cuisine' )"
   ]
  },
  {
   "cell_type": "code",
   "execution_count": 14,
   "metadata": {},
   "outputs": [
    {
     "data": {
      "text/plain": [
       "'Rossita  American Cuisine'"
      ]
     },
     "execution_count": 14,
     "metadata": {},
     "output_type": "execute_result"
    }
   ],
   "source": [
    "restaurant_att.get_name()"
   ]
  },
  {
   "cell_type": "code",
   "execution_count": 38,
   "metadata": {},
   "outputs": [],
   "source": [
    "class restaurant():\n",
    "    def __init__(self,restaurants_name , cuisine_type):\n",
    "        self.R_name = restaurants_name\n",
    "        self.type = cuisine_type\n",
    "        self.no_served = 0\n",
    "    def get_name(self):\n",
    "        long_name = str(self.R_name) +'  '+self.type\n",
    "        return long_name.title()"
   ]
  },
  {
   "cell_type": "code",
   "execution_count": 39,
   "metadata": {},
   "outputs": [],
   "source": [
    "restaurant_att = restaurant('rossita' , 'american cuisine' )"
   ]
  },
  {
   "cell_type": "code",
   "execution_count": 40,
   "metadata": {},
   "outputs": [
    {
     "data": {
      "text/plain": [
       "0"
      ]
     },
     "execution_count": 40,
     "metadata": {},
     "output_type": "execute_result"
    }
   ],
   "source": [
    "restaurant_att.no_served"
   ]
  },
  {
   "cell_type": "code",
   "execution_count": 41,
   "metadata": {},
   "outputs": [],
   "source": [
    "restaurant_att.no_served = 20"
   ]
  },
  {
   "cell_type": "code",
   "execution_count": 43,
   "metadata": {},
   "outputs": [
    {
     "data": {
      "text/plain": [
       "20"
      ]
     },
     "execution_count": 43,
     "metadata": {},
     "output_type": "execute_result"
    }
   ],
   "source": [
    "restaurant_att.no_served"
   ]
  },
  {
   "cell_type": "code",
   "execution_count": 48,
   "metadata": {},
   "outputs": [],
   "source": [
    "class restaurant():\n",
    "    def __init__(self,restaurants_name , cuisine_type):\n",
    "        self.R_name = restaurants_name\n",
    "        self.type = cuisine_type\n",
    "        self.no_served = 0\n",
    "    \n",
    "    def set_num_served(self ,numbers):\n",
    "        self.no_served = numbers\n",
    "    \n",
    "    def customerServed(self):\n",
    "        print(f\"Total customers served are {self.no_served}\")\n",
    "    \n",
    "    def increment_num_served(self,numbers):\n",
    "        self.no_served += numbers\n",
    "        \n",
    "    def get_name(self):\n",
    "        long_name = str(self.R_name) +'  '+self.type\n",
    "        return long_name.title()"
   ]
  },
  {
   "cell_type": "code",
   "execution_count": 49,
   "metadata": {},
   "outputs": [],
   "source": [
    "restaurant_att = restaurant('rossita' , 'american cuisine' )"
   ]
  },
  {
   "cell_type": "code",
   "execution_count": 50,
   "metadata": {},
   "outputs": [],
   "source": [
    "restaurant_att.set_num_served(25)"
   ]
  },
  {
   "cell_type": "code",
   "execution_count": 51,
   "metadata": {},
   "outputs": [
    {
     "name": "stdout",
     "output_type": "stream",
     "text": [
      "Total customers served are 25\n"
     ]
    }
   ],
   "source": [
    "restaurant_att.customerServed()"
   ]
  },
  {
   "cell_type": "code",
   "execution_count": 52,
   "metadata": {},
   "outputs": [],
   "source": [
    "restaurant_att.increment_num_served(254)"
   ]
  },
  {
   "cell_type": "code",
   "execution_count": 54,
   "metadata": {},
   "outputs": [
    {
     "name": "stdout",
     "output_type": "stream",
     "text": [
      "Total customers served are 279\n"
     ]
    }
   ],
   "source": [
    "restaurant_att.customerServed()"
   ]
  },
  {
   "cell_type": "code",
   "execution_count": 55,
   "metadata": {},
   "outputs": [],
   "source": [
    "class restaurant():\n",
    "    def __init__(self,restaurants_name , cuisine_type):\n",
    "        self.R_name = restaurants_name\n",
    "        self.type = cuisine_type\n",
    "        self.no_served = 0\n",
    "    \n",
    "    def set_num_served(self ,numbers):\n",
    "        self.no_served = numbers\n",
    "    \n",
    "    def customerServed(self):\n",
    "        print(f\"Total customers served are {self.no_served}\")\n",
    "    \n",
    "    def increment_num_served(self,numbers):\n",
    "        self.no_served += numbers\n",
    "        \n",
    "    def get_name(self):\n",
    "        long_name = str(self.R_name) +'  '+self.type\n",
    "        return long_name.title()\n",
    "    def describeRestaurant(self):\n",
    "        print(f\"The name of restaurant is {self.R_name}\")\n",
    "        print(f\"The availiblie cuisine is {self.type}\")\n",
    "    def openRestaurant(self):\n",
    "        print(f\"{self.R_name} is open now\")"
   ]
  },
  {
   "cell_type": "code",
   "execution_count": 56,
   "metadata": {},
   "outputs": [],
   "source": [
    "my_restaurant = restaurant ('The night inn' , 'pakistani cuisine')"
   ]
  },
  {
   "cell_type": "code",
   "execution_count": 60,
   "metadata": {},
   "outputs": [
    {
     "data": {
      "text/plain": [
       "'The Night Inn  Pakistani Cuisine'"
      ]
     },
     "execution_count": 60,
     "metadata": {},
     "output_type": "execute_result"
    }
   ],
   "source": [
    "my_restaurant.get_name()"
   ]
  },
  {
   "cell_type": "code",
   "execution_count": 61,
   "metadata": {},
   "outputs": [],
   "source": [
    "my_restaurant.set_num_served(25)"
   ]
  },
  {
   "cell_type": "code",
   "execution_count": 63,
   "metadata": {},
   "outputs": [
    {
     "name": "stdout",
     "output_type": "stream",
     "text": [
      "Total customers served are 25\n"
     ]
    }
   ],
   "source": [
    "my_restaurant.customerServed()"
   ]
  },
  {
   "cell_type": "raw",
   "metadata": {},
   "source": []
  }
 ],
 "metadata": {
  "kernelspec": {
   "display_name": "Python 3",
   "language": "python",
   "name": "python3"
  },
  "language_info": {
   "codemirror_mode": {
    "name": "ipython",
    "version": 3
   },
   "file_extension": ".py",
   "mimetype": "text/x-python",
   "name": "python",
   "nbconvert_exporter": "python",
   "pygments_lexer": "ipython3",
   "version": "3.7.3"
  }
 },
 "nbformat": 4,
 "nbformat_minor": 2
}
